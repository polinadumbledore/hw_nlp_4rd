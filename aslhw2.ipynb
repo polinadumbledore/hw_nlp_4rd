{
  "nbformat": 4,
  "nbformat_minor": 0,
  "metadata": {
    "colab": {
      "provenance": [],
      "gpuType": "T4"
    },
    "kernelspec": {
      "name": "python3",
      "display_name": "Python 3"
    },
    "language_info": {
      "name": "python"
    },
    "accelerator": "GPU"
  },
  "cells": [
    {
      "cell_type": "markdown",
      "source": [
        "Загружаю видео и субтитры"
      ],
      "metadata": {
        "id": "HpntMDla6dxK"
      }
    },
    {
      "cell_type": "code",
      "execution_count": 1,
      "metadata": {
        "colab": {
          "base_uri": "https://localhost:8080/"
        },
        "id": "_xrHp5eVooQz",
        "outputId": "4811e3e4-301e-4e69-bb84-0f885642cf3d"
      },
      "outputs": [
        {
          "output_type": "stream",
          "name": "stdout",
          "text": [
            "Collecting youtube_dl\n",
            "  Cloning https://github.com/ytdl-org/youtube-dl.git (to revision master) to /tmp/pip-install-x00au1qc/youtube-dl_2acdd9cf617d49929c12662845528b40\n",
            "  Running command git clone --filter=blob:none --quiet https://github.com/ytdl-org/youtube-dl.git /tmp/pip-install-x00au1qc/youtube-dl_2acdd9cf617d49929c12662845528b40\n",
            "  Resolved https://github.com/ytdl-org/youtube-dl.git to commit be008e657d79832642e2158557c899249c9e31cd\n",
            "  Preparing metadata (setup.py) ... \u001b[?25l\u001b[?25hdone\n",
            "Building wheels for collected packages: youtube_dl\n",
            "  Building wheel for youtube_dl (setup.py) ... \u001b[?25l\u001b[?25hdone\n",
            "  Created wheel for youtube_dl: filename=youtube_dl-2021.12.17-py2.py3-none-any.whl size=1944011 sha256=4f6f157ce5bbb622eef4c6c00555afd4cedd52b10aa4a86ee610f8664bde28c2\n",
            "  Stored in directory: /tmp/pip-ephem-wheel-cache-a2zwi2k2/wheels/b8/03/62/9c414b89a26da510b0a6d984b0ba74200d591e3d0abfa72aa8\n",
            "Successfully built youtube_dl\n",
            "Installing collected packages: youtube_dl\n",
            "Successfully installed youtube_dl-2021.12.17\n"
          ]
        }
      ],
      "source": [
        "!pip install git+https://github.com/ytdl-org/youtube-dl.git@master#egg=youtube_dl"
      ]
    },
    {
      "cell_type": "code",
      "source": [
        "!youtube-dl --extract-audio --audio-format wav https://www.youtube.com/watch?v=stLw-2Ob8xQ&ab_channel=WIRED"
      ],
      "metadata": {
        "colab": {
          "base_uri": "https://localhost:8080/"
        },
        "id": "NXwwbgJXo4kX",
        "outputId": "d2f8aeb4-fe36-4fcd-84be-670ccb6385b4"
      },
      "execution_count": 2,
      "outputs": [
        {
          "output_type": "stream",
          "name": "stdout",
          "text": [
            "[youtube] stLw-2Ob8xQ: Downloading webpage\n",
            "[youtube] stLw-2Ob8xQ: Downloading player da154528\n",
            "[dashsegments] Total fragments: 1\n",
            "[download] Destination: Pedro Pascal & Oscar Isaac Answer the Web's Most Searched Questions _ WIRED-stLw-2Ob8xQ.m4a\n",
            "\u001b[K[download] 100% of 7.70MiB in 00:00\n",
            "[ffmpeg] Correcting container in \"Pedro Pascal & Oscar Isaac Answer the Web's Most Searched Questions _ WIRED-stLw-2Ob8xQ.m4a\"\n",
            "[ffmpeg] Destination: Pedro Pascal & Oscar Isaac Answer the Web's Most Searched Questions _ WIRED-stLw-2Ob8xQ.wav\n",
            "Deleting original file Pedro Pascal & Oscar Isaac Answer the Web's Most Searched Questions _ WIRED-stLw-2Ob8xQ.m4a (pass -k to keep)\n"
          ]
        }
      ]
    },
    {
      "cell_type": "code",
      "source": [
        "!youtube-dl --write-auto-sub --convert-subs=srt --skip-download https://www.youtube.com/watch?v=stLw-2Ob8xQ&ab_channel=WIRED"
      ],
      "metadata": {
        "colab": {
          "base_uri": "https://localhost:8080/"
        },
        "id": "jwKutOKotaYL",
        "outputId": "670741a0-4a8d-4492-9854-8a559d4c854d"
      },
      "execution_count": 3,
      "outputs": [
        {
          "output_type": "stream",
          "name": "stdout",
          "text": [
            "[youtube] stLw-2Ob8xQ: Downloading webpage\n",
            "[info] Writing video subtitles to: Pedro Pascal & Oscar Isaac Answer the Web's Most Searched Questions _ WIRED-stLw-2Ob8xQ.en.vtt\n"
          ]
        }
      ]
    },
    {
      "cell_type": "markdown",
      "source": [
        "2.1 С помощью speech_recognition  https://pypi.org/project/SpeechRecognition/"
      ],
      "metadata": {
        "id": "WJj8XkLJ6uWC"
      }
    },
    {
      "cell_type": "code",
      "source": [
        "import speech_recognition as sr\n",
        "\n",
        "from os import path\n",
        "AUDIO_FILE = \"pedropascal2.wav\"\n",
        "\n",
        "r = sr.Recognizer()\n",
        "with sr.AudioFile(AUDIO_FILE) as source:\n",
        "    audio = r.record(source)\n",
        "\n",
        "try:\n",
        "    audio_transcribe_sr = r.recognize_sphinx(audio)\n",
        "except sr.UnknownValueError:\n",
        "    print(\"Sphinx could not understand audio\")\n",
        "except sr.RequestError as e:\n",
        "    print(\"Sphinx error; {0}\".format(e))"
      ],
      "metadata": {
        "id": "9FdN6S9F17LE"
      },
      "execution_count": 12,
      "outputs": []
    },
    {
      "cell_type": "code",
      "source": [
        "output_file = \"transcription_speechrecognition.txt\"\n",
        "with open(output_file, \"w\") as file:\n",
        "    file.write(audio_transcribe_sr)"
      ],
      "metadata": {
        "id": "rlQ9oMWL8iHY"
      },
      "execution_count": 13,
      "outputs": []
    },
    {
      "cell_type": "markdown",
      "source": [
        "2.2  Facebook wav2vec https://huggingface.co/facebook/wav2vec2-base-960h"
      ],
      "metadata": {
        "id": "sFgrJe2Y9o_O"
      }
    },
    {
      "cell_type": "code",
      "source": [
        "from transformers import pipeline\n",
        "transcriber = pipeline(\"automatic-speech-recognition\", \"facebook/wav2vec2-base-960h\")\n",
        "subs = transcriber(\"/content/pedropascal2.wav\")"
      ],
      "metadata": {
        "colab": {
          "base_uri": "https://localhost:8080/"
        },
        "id": "mmBnOlqt9fJl",
        "outputId": "6f06ce2b-56ef-4f89-f0d9-c555b1d32cf3"
      },
      "execution_count": 1,
      "outputs": [
        {
          "output_type": "stream",
          "name": "stderr",
          "text": [
            "Some weights of the model checkpoint at facebook/wav2vec2-base-960h were not used when initializing Wav2Vec2ForCTC: ['wav2vec2.encoder.pos_conv_embed.conv.weight_v', 'wav2vec2.encoder.pos_conv_embed.conv.weight_g']\n",
            "- This IS expected if you are initializing Wav2Vec2ForCTC from the checkpoint of a model trained on another task or with another architecture (e.g. initializing a BertForSequenceClassification model from a BertForPreTraining model).\n",
            "- This IS NOT expected if you are initializing Wav2Vec2ForCTC from the checkpoint of a model that you expect to be exactly identical (initializing a BertForSequenceClassification model from a BertForSequenceClassification model).\n",
            "Some weights of Wav2Vec2ForCTC were not initialized from the model checkpoint at facebook/wav2vec2-base-960h and are newly initialized: ['wav2vec2.encoder.pos_conv_embed.conv.parametrizations.weight.original1', 'wav2vec2.masked_spec_embed', 'wav2vec2.encoder.pos_conv_embed.conv.parametrizations.weight.original0']\n",
            "You should probably TRAIN this model on a down-stream task to be able to use it for predictions and inference.\n"
          ]
        }
      ]
    },
    {
      "cell_type": "code",
      "source": [
        "output_file_2 = \"transcription_facebook.txt\"\n",
        "with open(output_file_2, \"w\") as file:\n",
        "    file.write(str(subs))"
      ],
      "metadata": {
        "id": "EqLHE4ZmAPA8"
      },
      "execution_count": 4,
      "outputs": []
    },
    {
      "cell_type": "markdown",
      "source": [
        "2.3 OpenAI whisper https://huggingface.co/openai/whisper-base.en"
      ],
      "metadata": {
        "id": "WF8l42yf-yay"
      }
    },
    {
      "cell_type": "code",
      "source": [
        "transcriber = pipeline(\"automatic-speech-recognition\", \"openai/whisper-tiny.en\")\n",
        "subs = transcriber(\"/content/pedropascal2.wav\")"
      ],
      "metadata": {
        "colab": {
          "base_uri": "https://localhost:8080/"
        },
        "id": "qh5zlIAY-369",
        "outputId": "4091fc24-c609-4e7c-c173-0e6a34274062"
      },
      "execution_count": 6,
      "outputs": [
        {
          "output_type": "stream",
          "name": "stderr",
          "text": [
            "Special tokens have been added in the vocabulary, make sure the associated word embeddings are fine-tuned or trained.\n"
          ]
        }
      ]
    },
    {
      "cell_type": "code",
      "source": [
        "output_file_2 = \"transcription_openai.txt\"\n",
        "with open(output_file_2, \"w\") as file:\n",
        "    file.write(str(subs))"
      ],
      "metadata": {
        "id": "vRZH17E_A9PU"
      },
      "execution_count": 7,
      "outputs": []
    },
    {
      "cell_type": "markdown",
      "source": [
        "Смотрю WER\n"
      ],
      "metadata": {
        "id": "arEPgFBW9xpI"
      }
    },
    {
      "cell_type": "code",
      "source": [
        "with open('/content/goldenstandart.txt', 'r') as file:\n",
        "    references = file.read()"
      ],
      "metadata": {
        "id": "gG-f2WWVgPmx"
      },
      "execution_count": 14,
      "outputs": []
    },
    {
      "cell_type": "code",
      "source": [
        "references =  references.replace(\".\", \"\").replace(\",\", \"\").replace(\"'\", \"\")\n",
        "references = references.lower()\n",
        "references = [references]"
      ],
      "metadata": {
        "id": "bG-wGn4igUPl"
      },
      "execution_count": 15,
      "outputs": []
    },
    {
      "cell_type": "code",
      "source": [
        "with open('/content/transcription_speechrecognition.txt', 'r') as file:\n",
        "    predictions_sr = file.read()\n",
        "    predictions_sr = [predictions_sr]"
      ],
      "metadata": {
        "id": "VFmtIu3shT1h"
      },
      "execution_count": 16,
      "outputs": []
    },
    {
      "cell_type": "code",
      "source": [
        "with open('/content/youtube_transcription.txt', 'r') as file:\n",
        "    predictions_youtube = file.read()\n",
        "    predictions_youtube = [predictions_youtube]"
      ],
      "metadata": {
        "id": "VCqnnnvgzSXg"
      },
      "execution_count": 37,
      "outputs": []
    },
    {
      "cell_type": "code",
      "source": [
        "with open('/content/transcription_facebook.txt', 'r') as file:\n",
        "    predictions_fb = file.read()\n",
        "    predictions_fb = [predictions_fb]"
      ],
      "metadata": {
        "id": "xgJSz45bBwu4"
      },
      "execution_count": 40,
      "outputs": []
    },
    {
      "cell_type": "code",
      "source": [
        "with open('/content/transcription_openai.txt', 'r') as file:\n",
        "    predictions_openai = file.read()\n",
        "    predictions_openai = [predictions_openai]"
      ],
      "metadata": {
        "id": "Fe0JCyu9CAOU"
      },
      "execution_count": 19,
      "outputs": []
    },
    {
      "cell_type": "markdown",
      "source": [
        "WER speech_recognition"
      ],
      "metadata": {
        "id": "lvFa4GXA96su"
      }
    },
    {
      "cell_type": "code",
      "source": [
        "from evaluate import load\n",
        "wer = load(\"wer\")\n",
        "wer_score_sr = wer.compute(predictions=predictions_sr, references=references)"
      ],
      "metadata": {
        "id": "lz4f_B0ze1xH"
      },
      "execution_count": 23,
      "outputs": []
    },
    {
      "cell_type": "code",
      "source": [
        "wer_score_sr"
      ],
      "metadata": {
        "colab": {
          "base_uri": "https://localhost:8080/"
        },
        "id": "mA-WnxjCpQS-",
        "outputId": "c60b833b-c18b-4e55-e777-da92e3f11ad7"
      },
      "execution_count": 24,
      "outputs": [
        {
          "output_type": "execute_result",
          "data": {
            "text/plain": [
              "0.9090909090909091"
            ]
          },
          "metadata": {},
          "execution_count": 24
        }
      ]
    },
    {
      "cell_type": "markdown",
      "source": [
        "WER с youtube авто разметкой"
      ],
      "metadata": {
        "id": "VbcUJq3_-E8M"
      }
    },
    {
      "cell_type": "code",
      "source": [
        "wer2 = load(\"wer\")\n",
        "wer_score_youtube = wer2.compute(predictions=predictions_youtube, references=references)"
      ],
      "metadata": {
        "id": "4OAzv6Imzajb"
      },
      "execution_count": 38,
      "outputs": []
    },
    {
      "cell_type": "code",
      "source": [
        "wer_score_youtube"
      ],
      "metadata": {
        "colab": {
          "base_uri": "https://localhost:8080/"
        },
        "id": "7JSUbjeGz6oh",
        "outputId": "b9fa8e99-5699-45a4-d4cd-6bea5a4cc044"
      },
      "execution_count": 39,
      "outputs": [
        {
          "output_type": "execute_result",
          "data": {
            "text/plain": [
              "0.5833333333333334"
            ]
          },
          "metadata": {},
          "execution_count": 39
        }
      ]
    },
    {
      "cell_type": "markdown",
      "source": [
        "WER c facebook"
      ],
      "metadata": {
        "id": "BJ5-SqvvCeHj"
      }
    },
    {
      "cell_type": "code",
      "source": [
        "wer3 = load(\"wer\")\n",
        "wer_score_fb = wer3.compute(predictions=predictions_fb, references=references)"
      ],
      "metadata": {
        "id": "0hjNylo5C1WZ"
      },
      "execution_count": 41,
      "outputs": []
    },
    {
      "cell_type": "code",
      "source": [
        "wer_score_fb"
      ],
      "metadata": {
        "colab": {
          "base_uri": "https://localhost:8080/"
        },
        "id": "-7LANhnBC74y",
        "outputId": "7f9b9e35-c540-43e1-8d19-a8292440b053"
      },
      "execution_count": 42,
      "outputs": [
        {
          "output_type": "execute_result",
          "data": {
            "text/plain": [
              "1.0"
            ]
          },
          "metadata": {},
          "execution_count": 42
        }
      ]
    },
    {
      "cell_type": "markdown",
      "source": [
        "Как так? Не оч понятно"
      ],
      "metadata": {
        "id": "0MctiGJhEt2a"
      }
    },
    {
      "cell_type": "markdown",
      "source": [
        "WER для OPENAI"
      ],
      "metadata": {
        "id": "kg6VDnLeEwEd"
      }
    },
    {
      "cell_type": "code",
      "source": [
        "wer4 = load(\"wer\")\n",
        "wer_score_openai = wer4.compute(predictions=predictions_openai, references=references)"
      ],
      "metadata": {
        "id": "twd--QGJDTv0"
      },
      "execution_count": 34,
      "outputs": []
    },
    {
      "cell_type": "code",
      "source": [
        "wer_score_openai"
      ],
      "metadata": {
        "colab": {
          "base_uri": "https://localhost:8080/"
        },
        "id": "wvXgksEkDYvG",
        "outputId": "36a3a90d-2b33-41dd-de17-b61d0f85d004"
      },
      "execution_count": 35,
      "outputs": [
        {
          "output_type": "execute_result",
          "data": {
            "text/plain": [
              "0.9621212121212122"
            ]
          },
          "metadata": {},
          "execution_count": 35
        }
      ]
    }
  ]
}